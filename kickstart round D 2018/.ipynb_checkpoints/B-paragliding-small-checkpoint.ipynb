{
 "cells": [
  {
   "cell_type": "markdown",
   "metadata": {},
   "source": [
    "# Google Code Jam \n",
    "## Kickstart Round D 2018\n",
    "\n",
    "B. Paragliding\n",
    "\n",
    "https://code.google.com/codejam/contest/dashboard?c=6364486#s=p1"
   ]
  },
  {
   "cell_type": "markdown",
   "metadata": {},
   "source": [
    "### Prepare Test Cases - Solve B-small"
   ]
  },
  {
   "cell_type": "code",
   "execution_count": 4,
   "metadata": {},
   "outputs": [
    {
     "name": "stdout",
     "output_type": "stream",
     "text": [
      "Total number of test cases: 100\n"
     ]
    }
   ],
   "source": [
    "# Read input file\n",
    "with open(\"B-small-practice.in\", \"r\") as f:\n",
    "    n = int(f.readline())\n",
    "    input_cases = f.readlines()\n",
    "\n",
    "def read_case(j):\n",
    "    tmp = input_cases[j].split()\n",
    "    N = int(tmp[0])\n",
    "    K = int(tmp[1])\n",
    "    # p\n",
    "    tmp = input_cases[j + 1].split()\n",
    "    p = []\n",
    "    p.append(int(tmp[0]))\n",
    "    p.append(int(tmp[1]))\n",
    "    A = int(tmp[2])\n",
    "    B = int(tmp[3])\n",
    "    C = int(tmp[4])\n",
    "    M = int(tmp[5])\n",
    "    for k in range(2, N):\n",
    "        p.append((A * p[k - 1] + B * p[k - 2] + C) % M + 1)\n",
    "    # h\n",
    "    tmp = input_cases[j + 2].split()\n",
    "    h = []\n",
    "    h.append(int(tmp[0]))\n",
    "    h.append(int(tmp[1]))\n",
    "    A = int(tmp[2])\n",
    "    B = int(tmp[3])\n",
    "    C = int(tmp[4])\n",
    "    M = int(tmp[5])\n",
    "    for k in range(2, N):\n",
    "        h.append((A * h[k - 1] + B * h[k - 2] + C) % M + 1)\n",
    "    # x\n",
    "    tmp = input_cases[j + 3].split()\n",
    "    x = []\n",
    "    x.append(int(tmp[0]))\n",
    "    x.append(int(tmp[1]))\n",
    "    A = int(tmp[2])\n",
    "    B = int(tmp[3])\n",
    "    C = int(tmp[4])\n",
    "    M = int(tmp[5])\n",
    "    for k in range(2, K):\n",
    "        x.append((A * x[k - 1] + B * x[k - 2] + C) % M + 1)\n",
    "    # y\n",
    "    tmp = input_cases[j + 4].split()\n",
    "    y = []\n",
    "    y.append(int(tmp[0]))\n",
    "    y.append(int(tmp[1]))\n",
    "    A = int(tmp[2])\n",
    "    B = int(tmp[3])\n",
    "    C = int(tmp[4])\n",
    "    M = int(tmp[5])\n",
    "    for k in range(2, K):\n",
    "        y.append((A * y[k - 1] + B * y[k - 2] + C) % M + 1)\n",
    "\n",
    "    return p, h, x, y\n",
    "\n",
    "test_cases = []\n",
    "for i in range(0, n*5, 5):\n",
    "    test_cases.append(read_case(i))\n",
    "\n",
    "print(\"Total number of test cases:\", len(test_cases))"
   ]
  },
  {
   "cell_type": "markdown",
   "metadata": {},
   "source": [
    "### Solution"
   ]
  },
  {
   "cell_type": "code",
   "execution_count": 8,
   "metadata": {},
   "outputs": [
    {
     "name": "stdout",
     "output_type": "stream",
     "text": [
      "Done\n"
     ]
    }
   ],
   "source": [
    "# Each case\n",
    "result = []\n",
    "for p, h, x, y in test_cases:\n",
    "    towers = list(zip(p, h))\n",
    "    balloons = list(zip(x, y))\n",
    "    \n",
    "    total = 0\n",
    "    # Each balloon\n",
    "    for bx, by in balloons:\n",
    "        #print(\"bx\", bx)\n",
    "        #print(\"by\", by)\n",
    "        # Each tower\n",
    "        for tp, th in towers:\n",
    "            #print(\"tp\", tp)\n",
    "            #print(\"th\", th)\n",
    "            hdiff = bx - tp\n",
    "            #print(\"hdiff\", hdiff)\n",
    "            if hdiff >= 0 and by + hdiff <= th:\n",
    "                total += 1\n",
    "                #print(\"Got it\")\n",
    "                break\n",
    "            elif hdiff < 0 and by - hdiff <= th:\n",
    "                total += 1\n",
    "                #print(\"Got it\")\n",
    "                break\n",
    "        #print(total)\n",
    "        \n",
    "    result.append(total)\n",
    "\n",
    "print(\"Done\")"
   ]
  },
  {
   "cell_type": "markdown",
   "metadata": {},
   "source": [
    "### Prepare output"
   ]
  },
  {
   "cell_type": "code",
   "execution_count": 7,
   "metadata": {},
   "outputs": [
    {
     "name": "stdout",
     "output_type": "stream",
     "text": [
      "Done\n"
     ]
    }
   ],
   "source": [
    "with open(\"B-small-practice.out\", \"w\") as f:\n",
    "    for i, r in enumerate(result):\n",
    "        f.write(\"Case #\" + str(i + 1) + \": \" + str(r) + \"\\n\")\n",
    "\n",
    "print(\"Done\")"
   ]
  },
  {
   "cell_type": "code",
   "execution_count": null,
   "metadata": {},
   "outputs": [],
   "source": []
  }
 ],
 "metadata": {
  "kernelspec": {
   "display_name": "Python 3",
   "language": "python",
   "name": "python3"
  },
  "language_info": {
   "codemirror_mode": {
    "name": "ipython",
    "version": 3
   },
   "file_extension": ".py",
   "mimetype": "text/x-python",
   "name": "python",
   "nbconvert_exporter": "python",
   "pygments_lexer": "ipython3",
   "version": "3.7.0"
  }
 },
 "nbformat": 4,
 "nbformat_minor": 2
}
