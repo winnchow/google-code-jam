{
 "cells": [
  {
   "cell_type": "markdown",
   "metadata": {},
   "source": [
    "# Google Code Jam \n",
    "## Kickstart Round G 2018\n",
    "\n",
    "By Winn Chow 2018, winnchow@gmail.com\n",
    "\n",
    "A. Product Triplets\n",
    "\n",
    "https://code.google.com/codejam/contest/5374486/dashboard#s=p0"
   ]
  },
  {
   "cell_type": "markdown",
   "metadata": {},
   "source": [
    "### Prepare Test Cases - Solve A-small"
   ]
  },
  {
   "cell_type": "code",
   "execution_count": 1,
   "metadata": {},
   "outputs": [
    {
     "name": "stdout",
     "output_type": "stream",
     "text": [
      "n = 30\n",
      "Total number of test cases: 30\n"
     ]
    }
   ],
   "source": [
    "# Read input file\n",
    "with open(\"A-small-practice.in\", \"r\") as f:\n",
    "    # Read number of test cases\n",
    "    n = int(f.readline())\n",
    "    print(\"n = \" + str(n))\n",
    "    # Read all the rest\n",
    "    input_cases = f.readlines()\n",
    "\n",
    "# Read each test case\n",
    "def read_case(j):\n",
    "    # 1st line - total number of numbers\n",
    "    tmp = input_cases[j].split()\n",
    "    m = int(tmp[0])\n",
    "    # 2nd line - the numbers\n",
    "    tmp = list(map(int, input_cases[j + 1].split()))\n",
    "    return tmp\n",
    "\n",
    "# Store all the test cases\n",
    "test_cases = []\n",
    "for i in range(0, n*2, 2):\n",
    "    test_cases.append(read_case(i))\n",
    "\n",
    "print(\"Total number of test cases:\", len(test_cases))"
   ]
  },
  {
   "cell_type": "markdown",
   "metadata": {},
   "source": [
    "### Solution"
   ]
  },
  {
   "cell_type": "code",
   "execution_count": 2,
   "metadata": {},
   "outputs": [
    {
     "name": "stdout",
     "output_type": "stream",
     "text": [
      "[1, 6, 1, 0, 0, 64, 799224, 0, 785997, 1313400, 49, 0, 0, 1313400, 0, 0, 178, 0, 656700, 118, 142, 91, 0, 0, 192, 0, 0, 656700, 77, 0]\n",
      "Done\n"
     ]
    }
   ],
   "source": [
    "import math\n",
    "\n",
    "# Each case\n",
    "result = []\n",
    "for l in test_cases:\n",
    "    # Count\n",
    "    count = 0\n",
    "    # Sort it first, as 0 * any number == 0, we have to put zeros in the front\n",
    "    l.sort(key=lambda x: -x if x != 0 else -math.inf)\n",
    "    #print(l)\n",
    "    # For each x\n",
    "    for i, x in enumerate(l):\n",
    "        # if we are not at the end\n",
    "        #print(\">>>>>>>>x\", x)\n",
    "        if len(l) - i >= 3:\n",
    "            # Check if x == y * z\n",
    "            # For each y\n",
    "            for j, y in enumerate(l[i+1:-1]):\n",
    "                #print(\"y\", y)\n",
    "                # For each z\n",
    "                for z in l[i+1+j+1:]:\n",
    "                    #print(\"z\", z)\n",
    "                    if x == y * z:\n",
    "                        count += 1\n",
    "                        #print(\"Yes\")\n",
    "                    # All numbers are stored in decreasing order, stop once it gets too small\n",
    "                    elif x > y * z:\n",
    "                        #print(\"No\")\n",
    "                        break\n",
    "    result.append(count)\n",
    "\n",
    "print(result)\n",
    "print(\"Done\")"
   ]
  },
  {
   "cell_type": "markdown",
   "metadata": {},
   "source": [
    "### Prepare output"
   ]
  },
  {
   "cell_type": "code",
   "execution_count": 3,
   "metadata": {},
   "outputs": [
    {
     "name": "stdout",
     "output_type": "stream",
     "text": [
      "Done\n"
     ]
    }
   ],
   "source": [
    "with open(\"A-small-practice.out\", \"w\") as f:\n",
    "    for i, r in enumerate(result):\n",
    "        f.write(\"Case #\" + str(i + 1) + \": \" + str(r) + \"\\n\")\n",
    "\n",
    "print(\"Done\")"
   ]
  },
  {
   "cell_type": "code",
   "execution_count": null,
   "metadata": {},
   "outputs": [],
   "source": []
  },
  {
   "cell_type": "code",
   "execution_count": null,
   "metadata": {},
   "outputs": [],
   "source": []
  }
 ],
 "metadata": {
  "kernelspec": {
   "display_name": "Python 3",
   "language": "python",
   "name": "python3"
  },
  "language_info": {
   "codemirror_mode": {
    "name": "ipython",
    "version": 3
   },
   "file_extension": ".py",
   "mimetype": "text/x-python",
   "name": "python",
   "nbconvert_exporter": "python",
   "pygments_lexer": "ipython3",
   "version": "3.7.0"
  }
 },
 "nbformat": 4,
 "nbformat_minor": 2
}
