{
 "cells": [
  {
   "cell_type": "markdown",
   "metadata": {},
   "source": [
    "# Google Code Jam \n",
    "## Kickstart Round G 2018\n",
    "\n",
    "By Winn Chow, winnchow@gmail.com\n",
    "\n",
    "A. Product Triplets\n",
    "\n",
    "https://code.google.com/codejam/contest/5374486/dashboard#s=p0"
   ]
  },
  {
   "cell_type": "markdown",
   "metadata": {},
   "source": [
    "### Prepare Test Cases - Solve A-small"
   ]
  },
  {
   "cell_type": "code",
   "execution_count": 1,
   "metadata": {},
   "outputs": [],
   "source": [
    "filename_s = \"A-small-practice.in\""
   ]
  },
  {
   "cell_type": "code",
   "execution_count": 2,
   "metadata": {},
   "outputs": [],
   "source": [
    "def read_data_file(filename):\n",
    "    \"\"\"Read input file and return test cases in a list.\"\"\"\n",
    "    \n",
    "    with open(filename, \"r\") as f:\n",
    "        # Read number of test cases\n",
    "        n = int(f.readline())\n",
    "        print(\"n = \" + str(n))\n",
    "        # Read all the rest\n",
    "        input_cases = f.readlines()\n",
    "\n",
    "    # Read each test case\n",
    "    def read_case(j):\n",
    "        # 1st line - total number of numbers\n",
    "        tmp = input_cases[j].split()\n",
    "        m = int(tmp[0])\n",
    "        # 2nd line - the numbers\n",
    "        tmp = list(map(int, input_cases[j + 1].split()))\n",
    "        return tmp\n",
    "\n",
    "    # Store all the test cases\n",
    "    test_cases = []\n",
    "    for i in range(0, n*2, 2):\n",
    "        test_cases.append(read_case(i))\n",
    "\n",
    "    print(\"Total number of test cases:\", len(test_cases))\n",
    "    \n",
    "    return test_cases"
   ]
  },
  {
   "cell_type": "code",
   "execution_count": 3,
   "metadata": {},
   "outputs": [
    {
     "name": "stdout",
     "output_type": "stream",
     "text": [
      "n = 30\n",
      "Total number of test cases: 30\n"
     ]
    }
   ],
   "source": [
    "test_cases_s = read_data_file(filename_s)"
   ]
  },
  {
   "cell_type": "markdown",
   "metadata": {},
   "source": [
    "### Solution\n",
    "\n",
    "We first sort the numbers in decreasing order (but 0s have to be in the front) and then compare each tuple of 3 numbers. We stop when the numbers get too small. "
   ]
  },
  {
   "cell_type": "code",
   "execution_count": 50,
   "metadata": {},
   "outputs": [],
   "source": [
    "import math\n",
    "from tqdm import *\n",
    "\n",
    "def solve_small(test_cases):\n",
    "    \"\"\"Return the result to small test cases\"\"\"\n",
    "    \n",
    "    # Each case\n",
    "    result = []\n",
    "    for l in tqdm(test_cases):\n",
    "        # Count\n",
    "        count = 0\n",
    "        # Sort it first, as 0 * any number == 0, we have to put zeros in the front\n",
    "        l.sort(key=lambda x: -x if x != 0 else -math.inf)\n",
    "        #print(l)\n",
    "        # For each x\n",
    "        for i, x in enumerate(l):\n",
    "            # if we are not at the end\n",
    "            #print(\">>>>>>>>x\", x)\n",
    "            if len(l) - i >= 3:\n",
    "                # Check if x == y * z\n",
    "                # For each y\n",
    "                for j, y in enumerate(l[i+1:-1]):\n",
    "                    #print(\"y\", y)\n",
    "                    # For each z\n",
    "                    for z in l[i+1+j+1:]:\n",
    "                        #print(\"z\", z)\n",
    "                        if x == y * z:\n",
    "                            count += 1\n",
    "                            #print(\"Yes\")\n",
    "                        # All numbers are stored in decreasing order, stop once it gets too small\n",
    "                        elif x > y * z:\n",
    "                            #print(\"No\")\n",
    "                            break\n",
    "        result.append(count)\n",
    "    print(\"Done\")\n",
    "    return result"
   ]
  },
  {
   "cell_type": "code",
   "execution_count": 51,
   "metadata": {},
   "outputs": [
    {
     "name": "stderr",
     "output_type": "stream",
     "text": [
      "100%|██████████| 30/30 [00:05<00:00,  4.85it/s]\n"
     ]
    },
    {
     "name": "stdout",
     "output_type": "stream",
     "text": [
      "Done\n",
      "[1, 6, 1, 0, 0, 64, 799224, 0, 785997, 1313400, 49, 0, 0, 1313400, 0, 0, 178, 0, 656700, 118, 142, 91, 0, 0, 192, 0, 0, 656700, 77, 0]\n"
     ]
    }
   ],
   "source": [
    "result_s = solve_small(test_cases_s)\n",
    "print(result_s)"
   ]
  },
  {
   "cell_type": "markdown",
   "metadata": {},
   "source": [
    "### Prepare output"
   ]
  },
  {
   "cell_type": "code",
   "execution_count": 59,
   "metadata": {},
   "outputs": [],
   "source": [
    "def write_output_file(result, filename):\n",
    "    \"\"\"Write result to an output file\"\"\"\n",
    "    \n",
    "    with open(filename, \"w\") as f:\n",
    "        for i, r in enumerate(result):\n",
    "            f.write(\"Case #\" + str(i + 1) + \": \" + str(r) + \"\\n\")\n",
    "\n",
    "    print(\"Done\")"
   ]
  },
  {
   "cell_type": "code",
   "execution_count": null,
   "metadata": {},
   "outputs": [],
   "source": [
    "write_output_file(result_s, \"A-small-practice.out\")"
   ]
  },
  {
   "cell_type": "markdown",
   "metadata": {},
   "source": [
    "### Prepare Test Cases - Solve A-large"
   ]
  },
  {
   "cell_type": "code",
   "execution_count": 55,
   "metadata": {},
   "outputs": [],
   "source": [
    "filename_l = \"A-large-practice.in\""
   ]
  },
  {
   "cell_type": "code",
   "execution_count": 56,
   "metadata": {},
   "outputs": [
    {
     "name": "stdout",
     "output_type": "stream",
     "text": [
      "n = 30\n",
      "Total number of test cases: 30\n"
     ]
    }
   ],
   "source": [
    "test_cases_l= read_data_file(filename_l)"
   ]
  },
  {
   "cell_type": "markdown",
   "metadata": {},
   "source": [
    "### Solution\n",
    "\n",
    "We first sort the numbers in decreasing order (but 0s have to be in the front).\n",
    "\n",
    "For the large dataset, we need to speed up by:\n",
    "\n",
    "1. The first 3 repeated values of a number can form a unique tuple e.g. (1, 1, 1). But further repeated values will not create more unique tupbles. They just form more combinations of the same tuples. We can use nCr to work out the number of additional combinations.\n",
    "2. If x is not divisible by y, continue to the next y.\n",
    "3. Use binary search to find z for each pair of x and y. The target z is x divided by y."
   ]
  },
  {
   "cell_type": "code",
   "execution_count": 52,
   "metadata": {},
   "outputs": [],
   "source": [
    "import math\n",
    "from scipy.special import comb\n",
    "from collections import Counter\n",
    "from bisect import bisect_left \n",
    "from tqdm import *\n",
    "\n",
    "def binary_search(a, x): \n",
    "    \"\"\" Do binary search and return -1 if not found\n",
    "        Reference: https://stackoverflow.com/questions/212358/binary-search-bisection-in-python \"\"\"\n",
    "    \n",
    "    i = bisect_left(a, x) \n",
    "    if i != len(a) and a[i] == x: \n",
    "        return i \n",
    "    else: \n",
    "        return -1\n",
    "\n",
    "def solve_large(test_cases):\n",
    "    \"\"\"Return the result to large test cases\"\"\"\n",
    "    \n",
    "    # Each case\n",
    "    result = []\n",
    "    for l in tqdm(test_cases):\n",
    "        # Count\n",
    "        count = 0\n",
    "        \n",
    "        # Do counting\n",
    "        lc = Counter(l)\n",
    "        #print(lc)\n",
    "        new_l = []\n",
    "        \n",
    "        # Build a list with a max of 3 repeated values\n",
    "        # All other repeated values are only combinations, we can use nCr to work them out at the end\n",
    "        for e, c in lc.items():\n",
    "            new_l += [e] * min(c, 3)\n",
    "        #print(new_l)\n",
    "        \n",
    "        # Sort it first, as 0 * any number == 0, we have to put zeros in the front\n",
    "        new_l.sort(key=lambda x: -x if x != 0 else -math.inf)\n",
    "        \n",
    "        # Store all the result tuples\n",
    "        dict_tuples = {}\n",
    "        # For each x\n",
    "        for i, x in enumerate(new_l):\n",
    "            # if we are not at the end\n",
    "            #print(\">>>>>>>>x\", x)\n",
    "            if len(new_l) - i >= 3:\n",
    "                # Check if x == y * z\n",
    "                # For each y\n",
    "                for j, y in enumerate(new_l[i+1:-1]):\n",
    "                    #print(\"y\", y)\n",
    "                    # If it is not divisible by y\n",
    "                    if y > 0 and x % y != 0:\n",
    "                        continue\n",
    "                    \n",
    "                    # We look for target z \n",
    "                    if y > 0:\n",
    "                        target_z = x // y\n",
    "                        #print(\"target_z = \" + str(target_z))\n",
    "                        #print(new_l[:i+1+j:-1])\n",
    "                        \n",
    "                        # Use binary search to find the target z, but need to reverse the list \n",
    "                        # so that it is in increasing order\n",
    "                        z = binary_search(new_l[:i+1+j:-1], target_z)\n",
    "                        #print(\"found = \" + str(z))\n",
    "                        if z != -1:\n",
    "                            dict_tuples[(x, y, target_z)] = True\n",
    "                    # if both x and y are zero, all z are answers\n",
    "                    elif x == 0 and y == 0:\n",
    "                        for z in new_l[i+1+j+1:]:\n",
    "                            dict_tuples[(x, y, z)] = True\n",
    "        \n",
    "        # Calculate all the combinations for the repeated values, nCr\n",
    "        for t in dict_tuples.keys():\n",
    "            ct = Counter(t)\n",
    "            tmp_count = 1\n",
    "            for e, c in ct.items():\n",
    "                # nCr\n",
    "                tmp_count *= comb(lc[e], c, exact=True)\n",
    "            count += tmp_count\n",
    "        result.append(count)\n",
    "    print(\"Done\")\n",
    "    return result"
   ]
  },
  {
   "cell_type": "code",
   "execution_count": 57,
   "metadata": {
    "scrolled": false
   },
   "outputs": [
    {
     "name": "stderr",
     "output_type": "stream",
     "text": [
      "100%|██████████| 30/30 [01:03<00:00,  3.20s/it]\n"
     ]
    },
    {
     "name": "stdout",
     "output_type": "stream",
     "text": [
      "Done\n",
      "[1, 6, 1, 0, 26, 24, 26, 21431968, 26189, 54, 0, 79, 0, 0, 26, 57142169000, 11, 25535, 63500, 35540676584, 28571084500, 20877777, 35686322024, 15, 57142169000, 28571084500, 27, 20368986, 21085, 25881]\n"
     ]
    }
   ],
   "source": [
    "result_l = solve_large(test_cases_l)\n",
    "print(result_l)"
   ]
  },
  {
   "cell_type": "markdown",
   "metadata": {},
   "source": [
    "### Prepare output"
   ]
  },
  {
   "cell_type": "code",
   "execution_count": 61,
   "metadata": {},
   "outputs": [
    {
     "name": "stdout",
     "output_type": "stream",
     "text": [
      "Done\n"
     ]
    }
   ],
   "source": [
    "write_output_file(result_l, \"A-large-practice.out\")"
   ]
  },
  {
   "cell_type": "code",
   "execution_count": null,
   "metadata": {},
   "outputs": [],
   "source": []
  }
 ],
 "metadata": {
  "kernelspec": {
   "display_name": "Python 3",
   "language": "python",
   "name": "python3"
  },
  "language_info": {
   "codemirror_mode": {
    "name": "ipython",
    "version": 3
   },
   "file_extension": ".py",
   "mimetype": "text/x-python",
   "name": "python",
   "nbconvert_exporter": "python",
   "pygments_lexer": "ipython3",
   "version": "3.7.0"
  }
 },
 "nbformat": 4,
 "nbformat_minor": 2
}
