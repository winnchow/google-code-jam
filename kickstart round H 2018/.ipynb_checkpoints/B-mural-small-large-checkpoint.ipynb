{
 "cells": [
  {
   "cell_type": "markdown",
   "metadata": {},
   "source": [
    "# Google Code Jam \n",
    "## Kickstart Round H 2018\n",
    "\n",
    "By Winn Chow, winnchow@gmail.com\n",
    "\n",
    "B. Mural\n",
    "\n",
    "https://code.google.com/codejam/contest/3324486/dashboard#s=p1"
   ]
  },
  {
   "cell_type": "markdown",
   "metadata": {},
   "source": [
    "### Prepare Test Cases - Solve A-small"
   ]
  },
  {
   "cell_type": "code",
   "execution_count": 3,
   "metadata": {},
   "outputs": [],
   "source": [
    "filename_s = \"B-small-practice.in\""
   ]
  },
  {
   "cell_type": "code",
   "execution_count": 4,
   "metadata": {},
   "outputs": [],
   "source": [
    "def read_data_file(filename):\n",
    "    \"\"\"Read input file and return test cases in a list.\"\"\"\n",
    "    \n",
    "    with open(filename, \"r\") as f:\n",
    "        # Read number of test cases\n",
    "        n = int(f.readline())\n",
    "        print(\"n = \" + str(n))\n",
    "        # Read all the rest\n",
    "        input_cases = f.readlines()\n",
    "\n",
    "    # Read each test case\n",
    "    def read_case(j):\n",
    "        tmp = input_cases[j].split()\n",
    "        # total number of numbers\n",
    "        n_test = int(tmp[0])\n",
    "        scores = []\n",
    "        # scores\n",
    "        for i in input_cases[j + 1].strip():\n",
    "            scores.append(int(i))\n",
    "        return n_test, scores\n",
    "\n",
    "    # Store all the test cases\n",
    "    test_cases = []\n",
    "    start = 0\n",
    "    for i in range(0, 2*n, 2):\n",
    "        n_test, scores = read_case(i)\n",
    "        test_cases.append((n_test, scores))\n",
    "\n",
    "    print(\"Total number of test cases:\", len(test_cases))\n",
    "    \n",
    "    return test_cases"
   ]
  },
  {
   "cell_type": "code",
   "execution_count": 5,
   "metadata": {},
   "outputs": [
    {
     "name": "stdout",
     "output_type": "stream",
     "text": [
      "n = 100\n",
      "Total number of test cases: 100\n"
     ]
    }
   ],
   "source": [
    "test_cases_s = read_data_file(filename_s)"
   ]
  },
  {
   "cell_type": "markdown",
   "metadata": {},
   "source": [
    "### Solution\n",
    "\n",
    "As Thanh and \"disaster\" will take turn to pick a wall, each will pick half of the walls at the end. \"Disaster\" is forced to start from both ends. Hence, we can join the two ends and use a sliding window (half of the number of walls) to find out the total minimum score Thanh can best force it to get. Then, the total maximum score Thanh can get is the same as the sum of all scores minus the total minimum score \"disaster\" can only get."
   ]
  },
  {
   "cell_type": "code",
   "execution_count": 8,
   "metadata": {},
   "outputs": [],
   "source": [
    "import math\n",
    "from tqdm import *\n",
    "\n",
    "def solve_small(test_cases):\n",
    "    \"\"\"Return the result to small test cases\"\"\"\n",
    "    \n",
    "    # Each case\n",
    "    result = []\n",
    "    for n_test, scores in tqdm(test_cases):\n",
    "        #print(n_test, scores)\n",
    "        total_score = sum(scores)\n",
    "        #print(total_score)\n",
    "        \n",
    "        # As Thanh and \"disaster\" will take turn, so each will pick half of the walls. \n",
    "        # The window length\n",
    "        half_window = n_test // 2\n",
    "        #print(\"half_window = \" + str(half_window))\n",
    "        \n",
    "        # As \"disaster\" has to pick from both ends, we can join the two ends and use a \n",
    "        # sliding window to find out the total minimum score we can force \"disaster\" to get \n",
    "        # The 1st half reversed + the 2nd half reversed\n",
    "        new_scores = scores[half_window - 1::-1] + scores[:n_test - half_window - 1:-1]\n",
    "        #print(new_scores)\n",
    "        \n",
    "        # Starting from the first half\n",
    "        min_score = sum(new_scores[0:half_window])\n",
    "        last_score = min_score\n",
    "        #print(\"1. min_score = \" + str(min_score))\n",
    "        for i in range(half_window, len(new_scores)):\n",
    "            #print(\"i = \" + str(i))\n",
    "            \n",
    "            # Check for all possibilities, using a sliding window\n",
    "            new_score = last_score - new_scores[i - half_window] + new_scores[i]\n",
    "            #print(new_score)\n",
    "            if min_score > new_score:\n",
    "                min_score = new_score\n",
    "            last_score = new_score\n",
    "        #print(\"2. min_score = \" + str(min_score))\n",
    "        \n",
    "        # The total maximum score Thanh can achieve is the same as the sum of \n",
    "        # all socres minus the total minimum score we can force \"disaster\" to get \n",
    "        result.append(total_score - min_score)\n",
    "\n",
    "    print(\"Done\")\n",
    "    return result"
   ]
  },
  {
   "cell_type": "code",
   "execution_count": 9,
   "metadata": {},
   "outputs": [
    {
     "name": "stderr",
     "output_type": "stream",
     "text": [
      "100%|██████████| 100/100 [00:00<00:00, 99983.41it/s]\n"
     ]
    },
    {
     "name": "stdout",
     "output_type": "stream",
     "text": [
      "Done\n"
     ]
    }
   ],
   "source": [
    "result_s = solve_small(test_cases_s)"
   ]
  },
  {
   "cell_type": "markdown",
   "metadata": {},
   "source": [
    "### Prepare output"
   ]
  },
  {
   "cell_type": "code",
   "execution_count": 17,
   "metadata": {},
   "outputs": [],
   "source": [
    "def write_output_file(result, filename):\n",
    "    \"\"\"Write result to an output file\"\"\"\n",
    "    \n",
    "    with open(filename, \"w\") as f:\n",
    "        for i, r in enumerate(result):\n",
    "            f.write(\"Case #\" + str(i + 1) + \": \" + str(r) + \"\\n\")\n",
    "\n",
    "    print(\"Done\")"
   ]
  },
  {
   "cell_type": "code",
   "execution_count": 18,
   "metadata": {},
   "outputs": [
    {
     "name": "stdout",
     "output_type": "stream",
     "text": [
      "Done\n"
     ]
    }
   ],
   "source": [
    "write_output_file(result_s, \"B-small-practice.out\")"
   ]
  },
  {
   "cell_type": "markdown",
   "metadata": {},
   "source": [
    "### Prepare Test Cases - Solve A-large"
   ]
  },
  {
   "cell_type": "code",
   "execution_count": 19,
   "metadata": {},
   "outputs": [],
   "source": [
    "filename_l = \"B-large-practice.in\""
   ]
  },
  {
   "cell_type": "code",
   "execution_count": 20,
   "metadata": {},
   "outputs": [
    {
     "name": "stdout",
     "output_type": "stream",
     "text": [
      "n = 100\n",
      "Total number of test cases: 100\n"
     ]
    }
   ],
   "source": [
    "test_cases_l= read_data_file(filename_l)"
   ]
  },
  {
   "cell_type": "markdown",
   "metadata": {},
   "source": [
    "### Solution\n",
    "\n",
    "The solution is fast enough."
   ]
  },
  {
   "cell_type": "code",
   "execution_count": 21,
   "metadata": {
    "scrolled": false
   },
   "outputs": [
    {
     "name": "stderr",
     "output_type": "stream",
     "text": [
      "100%|██████████| 100/100 [00:00<00:00, 145.20it/s]\n"
     ]
    },
    {
     "name": "stdout",
     "output_type": "stream",
     "text": [
      "Done\n"
     ]
    }
   ],
   "source": [
    "result_l = solve_small(test_cases_l)"
   ]
  },
  {
   "cell_type": "markdown",
   "metadata": {},
   "source": [
    "### Prepare output"
   ]
  },
  {
   "cell_type": "code",
   "execution_count": 22,
   "metadata": {},
   "outputs": [
    {
     "name": "stdout",
     "output_type": "stream",
     "text": [
      "Done\n"
     ]
    }
   ],
   "source": [
    "write_output_file(result_l, \"B-large-practice.out\")"
   ]
  },
  {
   "cell_type": "code",
   "execution_count": null,
   "metadata": {},
   "outputs": [],
   "source": []
  }
 ],
 "metadata": {
  "kernelspec": {
   "display_name": "Python 3",
   "language": "python",
   "name": "python3"
  },
  "language_info": {
   "codemirror_mode": {
    "name": "ipython",
    "version": 3
   },
   "file_extension": ".py",
   "mimetype": "text/x-python",
   "name": "python",
   "nbconvert_exporter": "python",
   "pygments_lexer": "ipython3",
   "version": "3.7.0"
  }
 },
 "nbformat": 4,
 "nbformat_minor": 2
}
