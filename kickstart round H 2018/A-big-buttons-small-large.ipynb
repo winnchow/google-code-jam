{
 "cells": [
  {
   "cell_type": "markdown",
   "metadata": {},
   "source": [
    "# Google Code Jam \n",
    "## Kickstart Round H 2018\n",
    "\n",
    "By Winn Chow, winnchow@gmail.com\n",
    "\n",
    "A. Big Buttons\n",
    "\n",
    "https://code.google.com/codejam/contest/3324486/dashboard"
   ]
  },
  {
   "cell_type": "markdown",
   "metadata": {},
   "source": [
    "### Prepare Test Cases - Solve A-small"
   ]
  },
  {
   "cell_type": "code",
   "execution_count": 71,
   "metadata": {},
   "outputs": [],
   "source": [
    "filename_s = \"A-small-practice.in\""
   ]
  },
  {
   "cell_type": "code",
   "execution_count": 72,
   "metadata": {},
   "outputs": [],
   "source": [
    "def read_data_file(filename):\n",
    "    \"\"\"Read input file and return test cases in a list.\"\"\"\n",
    "    \n",
    "    with open(filename, \"r\") as f:\n",
    "        # Read number of test cases\n",
    "        n = int(f.readline())\n",
    "        print(\"n = \" + str(n))\n",
    "        # Read all the rest\n",
    "        input_cases = f.readlines()\n",
    "\n",
    "    # Read each test case\n",
    "    def read_case(j):\n",
    "        tmp = input_cases[j].split()\n",
    "        # 1st - total number of numbers\n",
    "        n_test = int(tmp[0])\n",
    "        # 2nd - prefixes\n",
    "        p_test = int(tmp[1])\n",
    "        prefixes = []\n",
    "        # the prefixes\n",
    "        for i in range(p_test):\n",
    "            prefixes.append(input_cases[j + i + 1].strip())\n",
    "        return n_test, p_test, prefixes\n",
    "\n",
    "    # Store all the test cases\n",
    "    test_cases = []\n",
    "    start = 0\n",
    "    for i in range(n):\n",
    "        n_test, p_test, prefixes = read_case(start)\n",
    "        test_cases.append((n_test, p_test, prefixes))\n",
    "        start += 1 + p_test\n",
    "\n",
    "    print(\"Total number of test cases:\", len(test_cases))\n",
    "    \n",
    "    return test_cases"
   ]
  },
  {
   "cell_type": "code",
   "execution_count": 73,
   "metadata": {},
   "outputs": [
    {
     "name": "stdout",
     "output_type": "stream",
     "text": [
      "n = 100\n",
      "Total number of test cases: 100\n"
     ]
    }
   ],
   "source": [
    "test_cases_s = read_data_file(filename_s)"
   ]
  },
  {
   "cell_type": "markdown",
   "metadata": {},
   "source": [
    "### Solution\n",
    "\n",
    "We first sort the prefixes in increasing length order. For all the prefixes that share a common prefix, only the shortest prefix needs to be considered. We store all the unique prefixes (not sharing a common prefix) in a dictionary. Then, we calculate the number of possibilities by 2^n - sum of the possibilities covered by each unique prefix."
   ]
  },
  {
   "cell_type": "code",
   "execution_count": 78,
   "metadata": {},
   "outputs": [],
   "source": [
    "import math\n",
    "from tqdm import *\n",
    "\n",
    "def solve_small(test_cases):\n",
    "    \"\"\"Return the result to small test cases\"\"\"\n",
    "    \n",
    "    # Each case\n",
    "    result = []\n",
    "    for n_test, p_test, prefixes in tqdm(test_cases):\n",
    "        #print(n_test, p_test, prefixes)\n",
    "        count = 2 ** n_test\n",
    "        \n",
    "        # sort prefixes by length in increasing order\n",
    "        prefixes.sort(key=lambda x: len(x))\n",
    "        \n",
    "        dict_unique_prefixes = {}\n",
    "        pref_lengths = []\n",
    "        tmp_l = 0\n",
    "        for p in prefixes:\n",
    "            \n",
    "            #print(p)\n",
    "            \n",
    "            found = -1\n",
    "            # Check stored unique prefixes\n",
    "            for l in pref_lengths:\n",
    "                pre = p[0:l]\n",
    "                found = dict_unique_prefixes.get(pre, -1)\n",
    "                if found != -1:\n",
    "                    # found, so not unique\n",
    "                    #print(found)\n",
    "                    break\n",
    "            \n",
    "            # not found, so unique\n",
    "            if found == -1:\n",
    "                # Store it\n",
    "                if tmp_l != len(p):\n",
    "                    tmp_l = len(p)\n",
    "                    pref_lengths.append(tmp_l)\n",
    "\n",
    "                dict_unique_prefixes[p] = 1\n",
    "        \n",
    "        #print(pref_lengths)\n",
    "        #print(dict_unique_prefixes)\n",
    "        \n",
    "        for k in dict_unique_prefixes.keys():\n",
    "            count -= 2 ** (n_test - len(k))\n",
    "            \n",
    "        result.append(count)\n",
    "\n",
    "    print(\"Done\")\n",
    "    return result"
   ]
  },
  {
   "cell_type": "code",
   "execution_count": 79,
   "metadata": {},
   "outputs": [
    {
     "name": "stderr",
     "output_type": "stream",
     "text": [
      "100%|██████████| 100/100 [00:00<00:00, 23810.98it/s]\n"
     ]
    },
    {
     "name": "stdout",
     "output_type": "stream",
     "text": [
      "Done\n",
      "[5, 16, 0, 768, 252, 512, 512, 1012, 0, 0, 0, 224, 0, 1008, 1023, 1, 0, 0, 0, 0, 841, 0, 0, 0, 0, 0, 865, 0, 0, 1023, 280, 1020, 807, 0, 0, 0, 872, 800, 876, 0, 884, 1016, 0, 992, 0, 992, 256, 832, 0, 0, 0, 992, 0, 837, 0, 992, 879, 0, 1022, 874, 876, 0, 0, 896, 857, 0, 388, 1022, 0, 832, 256, 0, 1012, 0, 828, 1008, 0, 0, 0, 992, 240, 768, 882, 0, 0, 512, 992, 837, 855, 1021, 64, 852, 0, 843, 0, 849, 769, 520, 1017, 0]\n"
     ]
    }
   ],
   "source": [
    "result_s = solve_small(test_cases_s)\n",
    "print(result_s)"
   ]
  },
  {
   "cell_type": "markdown",
   "metadata": {},
   "source": [
    "### Prepare output"
   ]
  },
  {
   "cell_type": "code",
   "execution_count": 80,
   "metadata": {},
   "outputs": [],
   "source": [
    "def write_output_file(result, filename):\n",
    "    \"\"\"Write result to an output file\"\"\"\n",
    "    \n",
    "    with open(filename, \"w\") as f:\n",
    "        for i, r in enumerate(result):\n",
    "            f.write(\"Case #\" + str(i + 1) + \": \" + str(r) + \"\\n\")\n",
    "\n",
    "    print(\"Done\")"
   ]
  },
  {
   "cell_type": "code",
   "execution_count": 81,
   "metadata": {},
   "outputs": [
    {
     "name": "stdout",
     "output_type": "stream",
     "text": [
      "Done\n"
     ]
    }
   ],
   "source": [
    "write_output_file(result_s, \"A-small-practice.out\")"
   ]
  },
  {
   "cell_type": "markdown",
   "metadata": {},
   "source": [
    "### Prepare Test Cases - Solve A-large"
   ]
  },
  {
   "cell_type": "code",
   "execution_count": 82,
   "metadata": {},
   "outputs": [],
   "source": [
    "filename_l = \"A-large-practice.in\""
   ]
  },
  {
   "cell_type": "code",
   "execution_count": 83,
   "metadata": {},
   "outputs": [
    {
     "name": "stdout",
     "output_type": "stream",
     "text": [
      "n = 100\n",
      "Total number of test cases: 100\n"
     ]
    }
   ],
   "source": [
    "test_cases_l= read_data_file(filename_l)"
   ]
  },
  {
   "cell_type": "markdown",
   "metadata": {},
   "source": [
    "### Solution\n",
    "\n",
    "The solution is fast enough."
   ]
  },
  {
   "cell_type": "code",
   "execution_count": 84,
   "metadata": {
    "scrolled": false
   },
   "outputs": [
    {
     "name": "stderr",
     "output_type": "stream",
     "text": [
      "100%|██████████| 100/100 [00:00<00:00, 9088.02it/s]\n"
     ]
    },
    {
     "name": "stdout",
     "output_type": "stream",
     "text": [
      "Done\n",
      "[5, 16, 0, 1073414144, 1125899369711616, 1125899369971712, 0, 844424929878016, 0, 0, 255219841630208, 1125899890065408, 1125899839471620, 1125899890065408, 0, 0, 407840560618416, 562949953421312, 1125899906519397, 1125899906101503, 1125899638177792, 0, 0, 1125899906525649, 1125762467889152, 1125899906514600, 0, 1125899369971712, 1, 1125899905658294, 123110643990528, 0, 0, 1125865546842120, 0, 190874315120216, 0, 166842292227253, 0, 1125899906826256, 1125899905639897, 70360153194464, 140737487815133, 0, 131391639519232, 562949953273824, 1125899873034240, 0, 1125899906059875, 1125899906162652, 1125899873178625, 309375005249111, 0, 0, 1125899898415225, 0, 281440616972288, 1123700883587072, 0, 1125899772624896, 266905859598638, 481079616210099, 1125899906842592, 1125899906446289, 1125899906795033, 1125899369971712, 1125899906187296, 1125899906803978, 0, 1125899369971712, 1125831187365888, 0, 1125899638407168, 1117103813820416, 122732985442285, 1125899903382549, 1125899906842623, 1125899906801428, 0, 1125899906319360, 0, 1125899896263139, 1125899905673471, 0, 0, 408779253350400, 0, 1125899906462057, 1125899906672100, 0, 536315377670300, 1125899906826240, 292743793770147, 1125899906842368, 0, 1059929209700352, 562949953421312, 1121570588196864, 1125899906842608, 1125899906580480]\n"
     ]
    }
   ],
   "source": [
    "result_l = solve_small(test_cases_l)\n",
    "print(result_l)"
   ]
  },
  {
   "cell_type": "markdown",
   "metadata": {},
   "source": [
    "### Prepare output"
   ]
  },
  {
   "cell_type": "code",
   "execution_count": 85,
   "metadata": {},
   "outputs": [
    {
     "name": "stdout",
     "output_type": "stream",
     "text": [
      "Done\n"
     ]
    }
   ],
   "source": [
    "write_output_file(result_l, \"A-large-practice.out\")"
   ]
  },
  {
   "cell_type": "code",
   "execution_count": null,
   "metadata": {},
   "outputs": [],
   "source": []
  }
 ],
 "metadata": {
  "kernelspec": {
   "display_name": "Python 3",
   "language": "python",
   "name": "python3"
  },
  "language_info": {
   "codemirror_mode": {
    "name": "ipython",
    "version": 3
   },
   "file_extension": ".py",
   "mimetype": "text/x-python",
   "name": "python",
   "nbconvert_exporter": "python",
   "pygments_lexer": "ipython3",
   "version": "3.7.0"
  }
 },
 "nbformat": 4,
 "nbformat_minor": 2
}
