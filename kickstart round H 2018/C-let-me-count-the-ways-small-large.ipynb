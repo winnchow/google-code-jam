{
 "cells": [
  {
   "cell_type": "markdown",
   "metadata": {},
   "source": [
    "# Google Code Jam \n",
    "## Kickstart Round H 2018\n",
    "\n",
    "By Winn Chow, winnchow@gmail.com\n",
    "\n",
    "C. Let Me Count The Ways\n",
    "\n",
    "https://code.google.com/codejam/contest/3324486/dashboard#s=p2"
   ]
  },
  {
   "cell_type": "markdown",
   "metadata": {},
   "source": [
    "### Prepare Test Cases - Solve A-small"
   ]
  },
  {
   "cell_type": "code",
   "execution_count": null,
   "metadata": {},
   "outputs": [],
   "source": [
    "filename_s = \"C-small-practice.in\""
   ]
  },
  {
   "cell_type": "code",
   "execution_count": 21,
   "metadata": {},
   "outputs": [],
   "source": [
    "def read_data_file(filename):\n",
    "    \"\"\"Read input file and return test cases in a list.\"\"\"\n",
    "    \n",
    "    with open(filename, \"r\") as f:\n",
    "        # Read number of test cases\n",
    "        n = int(f.readline())\n",
    "        print(\"n = \" + str(n))\n",
    "        # Read all the rest\n",
    "        input_cases = f.readlines()\n",
    "\n",
    "    # Read each test case\n",
    "    def read_case(j):\n",
    "        tmp = input_cases[j].split()\n",
    "        # total number of numbers\n",
    "        n_test = int(tmp[0])\n",
    "        m_test = int(tmp[1])\n",
    "        return n_test, m_test\n",
    "\n",
    "    # Store all the test cases\n",
    "    test_cases = []\n",
    "    for i in range(n):\n",
    "        n_test, m_test = read_case(i)\n",
    "        test_cases.append((n_test, m_test))\n",
    "\n",
    "    print(\"Total number of test cases:\", len(test_cases))\n",
    "    \n",
    "    return test_cases"
   ]
  },
  {
   "cell_type": "code",
   "execution_count": 22,
   "metadata": {},
   "outputs": [
    {
     "name": "stdout",
     "output_type": "stream",
     "text": [
      "n = 100\n",
      "Total number of test cases: 100\n"
     ]
    }
   ],
   "source": [
    "test_cases_s = read_data_file(filename_s)"
   ]
  },
  {
   "cell_type": "markdown",
   "metadata": {},
   "source": [
    "### Solution\n",
    "\n",
    "The number of ways is the same as the total number of ways of sitting for N couples minus the total number of ways that there is at least one newlywed couple sitting together. \n",
    "\n",
    "To calculate the total number of ways that there is at least one newlywed couple sitting together, we can use \"Union of events\" in probability theory.\n",
    "\n",
    "Reference:\n",
    "https://www.thoughtco.com/probability-union-of-three-sets-more-3126263\n",
    "\n",
    "1. Add the ways of each newlywed couple sitting together.\n",
    "2. Subtract the ways of the intersections of every pair of newlywed couples sitting together.\n",
    "3. Add the ways of the intersection of every set of three newlywed couples sitting together.\n",
    "4. Subtract the ways of the intersection of every set of four newlywed couples sitting together.\n",
    "5. Continue this process until the last is the ways of the intersection of the total number of newlywed couples that we started with."
   ]
  },
  {
   "cell_type": "code",
   "execution_count": 23,
   "metadata": {},
   "outputs": [],
   "source": [
    "import math\n",
    "from scipy.special import comb\n",
    "from tqdm import *\n",
    "\n",
    "def solve_small(test_cases):\n",
    "    \"\"\"Return the result to small test cases\"\"\"\n",
    "    \n",
    "    # Each case\n",
    "    result = []\n",
    "    for n_test, m_test in tqdm(test_cases):\n",
    "        #print(n_test, m_test)\n",
    "        \n",
    "        # Total number of ways for N couples\n",
    "        count = math.factorial(2*n_test) \n",
    "        \n",
    "        # Calculate the union of events for M newlywed couples sitting together\n",
    "        temp_count = []\n",
    "        temp_count.append(math.factorial(2 * (n_test - 1) + 1) * 2 * m_test)\n",
    "        for i in range(m_test - 1):\n",
    "            x = i + 2\n",
    "            temp_count.append(((-1) ** (x - 1)) * comb(m_test, x, exact=True) * math.factorial(2 * (n_test - x) + x) * (2 ** x))\n",
    "        \n",
    "        #print(temp_count)\n",
    "        # Total number of ways for N couples - ways for M newlywed couples sitting together\n",
    "        result.append((count - sum(temp_count)) % (10 ** 9 + 7))\n",
    "\n",
    "    print(\"Done\")\n",
    "    return result"
   ]
  },
  {
   "cell_type": "code",
   "execution_count": 24,
   "metadata": {},
   "outputs": [
    {
     "name": "stderr",
     "output_type": "stream",
     "text": [
      "100%|██████████| 100/100 [00:00<00:00, 3701.68it/s]\n"
     ]
    },
    {
     "name": "stdout",
     "output_type": "stream",
     "text": [
      "Done\n"
     ]
    }
   ],
   "source": [
    "result_s = solve_small(test_cases_s)"
   ]
  },
  {
   "cell_type": "markdown",
   "metadata": {},
   "source": [
    "### Prepare output"
   ]
  },
  {
   "cell_type": "code",
   "execution_count": 25,
   "metadata": {},
   "outputs": [],
   "source": [
    "def write_output_file(result, filename):\n",
    "    \"\"\"Write result to an output file\"\"\"\n",
    "    \n",
    "    with open(filename, \"w\") as f:\n",
    "        for i, r in enumerate(result):\n",
    "            f.write(\"Case #\" + str(i + 1) + \": \" + str(r) + \"\\n\")\n",
    "\n",
    "    print(\"Done\")"
   ]
  },
  {
   "cell_type": "code",
   "execution_count": 26,
   "metadata": {},
   "outputs": [
    {
     "name": "stdout",
     "output_type": "stream",
     "text": [
      "Done\n"
     ]
    }
   ],
   "source": [
    "write_output_file(result_s, \"C-small-practice.out\")"
   ]
  },
  {
   "cell_type": "markdown",
   "metadata": {},
   "source": [
    "### Prepare Test Cases - Solve A-large"
   ]
  },
  {
   "cell_type": "code",
   "execution_count": 27,
   "metadata": {},
   "outputs": [],
   "source": [
    "filename_l = \"C-large-practice.in\""
   ]
  },
  {
   "cell_type": "code",
   "execution_count": 28,
   "metadata": {},
   "outputs": [
    {
     "name": "stdout",
     "output_type": "stream",
     "text": [
      "n = 100\n",
      "Total number of test cases: 100\n"
     ]
    }
   ],
   "source": [
    "test_cases_l= read_data_file(filename_l)"
   ]
  },
  {
   "cell_type": "markdown",
   "metadata": {},
   "source": [
    "### Solution\n",
    "\n",
    "For the large dataset, we need to speed up by:\n",
    "\n",
    "1. Precompute modulos of factorials, modulo inverses of factorials and powers of 2\n",
    "2. Use modulos of factorials, modulo inverses of factorials to compute nCr\n",
    "3. Apply modular addition, subtraction and muliplication\n",
    "\n",
    "Reference: \n",
    "- https://www.quora.com/How-do-I-find-the-value-of-nCr-1000000007-for-the-large-number-n-n-10-6-in-C\n",
    "- https://www.khanacademy.org/computing/computer-science/cryptography#modarithmetic"
   ]
  },
  {
   "cell_type": "code",
   "execution_count": 29,
   "metadata": {},
   "outputs": [
    {
     "name": "stderr",
     "output_type": "stream",
     "text": [
      "100%|██████████| 200000/200000 [00:00<00:00, 1190192.55it/s]\n",
      "100%|██████████| 200000/200000 [00:00<00:00, 596850.04it/s]\n",
      "100%|██████████| 100000/100000 [00:01<00:00, 51481.55it/s]\n"
     ]
    }
   ],
   "source": [
    "import math\n",
    "import gmpy2\n",
    "from tqdm import *\n",
    "\n",
    "# Precompute modulos of factorials\n",
    "pre_factorial = {}\n",
    "pre_factorial[0] = 1\n",
    "\n",
    "for i in tqdm(range(1, 200001)):\n",
    "    pre_factorial[i] = (pre_factorial[i - 1] * i) % (10 ** 9 + 7)\n",
    "\n",
    "# Precompute modulo inverses of factorials\n",
    "pre_ifactorial = {}\n",
    "pre_ifactorial[0] = 1\n",
    "\n",
    "for i in tqdm(range(1, 200001)):\n",
    "    pre_ifactorial[i] = pre_ifactorial[i - 1] * int(gmpy2.invert(i, 10 ** 9 + 7)) % (10 ** 9 + 7)\n",
    "\n",
    "# Precompute powers of 2\n",
    "two_powers = {}\n",
    "\n",
    "two_tmp = 1\n",
    "for i in tqdm(range(1, 100001)):\n",
    "    two_tmp *= 2\n",
    "    two_powers[i] = two_tmp % (10 ** 9 + 7)\n"
   ]
  },
  {
   "cell_type": "code",
   "execution_count": 30,
   "metadata": {},
   "outputs": [],
   "source": [
    "import math\n",
    "from scipy.special import comb\n",
    "from tqdm import *\n",
    "\n",
    "def solve_large(test_cases):\n",
    "    \"\"\"Return the result to large test cases\"\"\"\n",
    "    \n",
    "    # Each case\n",
    "    result = []\n",
    "    for n_test, m_test in tqdm(test_cases):\n",
    "        #print(n_test, m_test)\n",
    "        \n",
    "        # Modular addition and subtraction\n",
    "        # (A + B) mod C = (A mod C + B mod C) mod C\n",
    "        count = math.factorial(2*n_test) % (10 ** 9 + 7)\n",
    "        \n",
    "        temp_count = []\n",
    "        for x in range(m_test, 0, -1):\n",
    "            #print(x)\n",
    "            # Calculate nCr mod (10 ** 9 + 7) using modulos of factorials and modulo inverses of factorials\n",
    "            c = pre_factorial[m_test] * pre_ifactorial[x] * pre_ifactorial[m_test - x] % (10 ** 9 + 7)\n",
    "            \n",
    "            # Modular multiplication\n",
    "            # (A * B) mod C = (A mod C * B mod C) mod C\n",
    "            temp_count.append(((-1) ** (x - 1)) * c * pre_factorial[2 * (n_test - x) + x] * two_powers[x] % (10 ** 9 + 7))\n",
    "        \n",
    "        #print(temp_count)\n",
    "        result.append((count - sum(temp_count)) % (10 ** 9 + 7))\n",
    "\n",
    "    print(\"Done\")\n",
    "    return result"
   ]
  },
  {
   "cell_type": "code",
   "execution_count": 32,
   "metadata": {
    "scrolled": false
   },
   "outputs": [
    {
     "name": "stderr",
     "output_type": "stream",
     "text": [
      "100%|██████████| 100/100 [00:54<00:00,  1.83it/s]\n"
     ]
    },
    {
     "name": "stdout",
     "output_type": "stream",
     "text": [
      "Done\n"
     ]
    }
   ],
   "source": [
    "result_l = solve_large(test_cases_l)"
   ]
  },
  {
   "cell_type": "markdown",
   "metadata": {},
   "source": [
    "### Prepare output"
   ]
  },
  {
   "cell_type": "code",
   "execution_count": 33,
   "metadata": {},
   "outputs": [
    {
     "name": "stdout",
     "output_type": "stream",
     "text": [
      "Done\n"
     ]
    }
   ],
   "source": [
    "write_output_file(result_l, \"C-large-practice.out\")"
   ]
  },
  {
   "cell_type": "code",
   "execution_count": null,
   "metadata": {},
   "outputs": [],
   "source": []
  },
  {
   "cell_type": "code",
   "execution_count": null,
   "metadata": {},
   "outputs": [],
   "source": []
  }
 ],
 "metadata": {
  "kernelspec": {
   "display_name": "Python 3",
   "language": "python",
   "name": "python3"
  },
  "language_info": {
   "codemirror_mode": {
    "name": "ipython",
    "version": 3
   },
   "file_extension": ".py",
   "mimetype": "text/x-python",
   "name": "python",
   "nbconvert_exporter": "python",
   "pygments_lexer": "ipython3",
   "version": "3.7.0"
  }
 },
 "nbformat": 4,
 "nbformat_minor": 2
}
